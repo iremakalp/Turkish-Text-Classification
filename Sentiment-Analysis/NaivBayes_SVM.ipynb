{
  "nbformat": 4,
  "nbformat_minor": 0,
  "metadata": {
    "accelerator": "GPU",
    "colab": {
      "name": "NaivBayes_SVM",
      "provenance": [],
      "collapsed_sections": []
    },
    "kernelspec": {
      "display_name": "Python 3",
      "name": "python3"
    },
    "language_info": {
      "name": "python"
    }
  },
  "cells": [
    {
      "cell_type": "markdown",
      "metadata": {
        "id": "uybMvFSBgDjt"
      },
      "source": [
        "Kod referansı: https://medium.com/@bedigunjit/simple-guide-to-text-classification-nlp-using-svm-and-naive-bayes-with-python-421db3a72d34"
      ]
    },
    {
      "cell_type": "code",
      "metadata": {
        "id": "1hn2iOUq_S2K"
      },
      "source": [
        "import pandas as pd\n",
        "import numpy as np\n",
        "from nltk.tokenize import word_tokenize\n",
        "from nltk import pos_tag\n",
        "from nltk.corpus import stopwords\n",
        "from nltk.stem import WordNetLemmatizer\n",
        "from sklearn.preprocessing import LabelEncoder\n",
        "from collections import defaultdict\n",
        "from nltk.corpus import wordnet as wn\n",
        "from sklearn.feature_extraction.text import TfidfVectorizer\n",
        "from sklearn import model_selection, naive_bayes, svm\n",
        "from sklearn.metrics import accuracy_score, precision_score, recall_score,f1_score,cohen_kappa_score"
      ],
      "execution_count": 1,
      "outputs": []
    },
    {
      "cell_type": "code",
      "metadata": {
        "id": "ONoyT27jFuyO"
      },
      "source": [
        "#Bu, komut dosyası tutarlı tutulursa her seferinde aynı sonucu yeniden üretmek için kullanılır, \n",
        "#aksi takdirde her çalıştırma farklı sonuçlar üretir. Seed herhangi bir sayıya ayarlanabilir. \n",
        "np.random.seed(500) "
      ],
      "execution_count": 2,
      "outputs": []
    },
    {
      "cell_type": "code",
      "metadata": {
        "id": "LBNv0fG6JLQL"
      },
      "source": [
        "#veri kumesini oku\n",
        "Corpus = pd.read_csv('/content/drive/MyDrive/veri/dataset.csv',encoding='utf-8-sig')"
      ],
      "execution_count": 3,
      "outputs": []
    },
    {
      "cell_type": "code",
      "metadata": {
        "id": "neVyDKRjJs8M"
      },
      "source": [
        "# Modeli Eğitim ve Test Veri kümesine ayır\n",
        "#Modele uyması için eğitim veri seti kullanılacak ve tahminler test veri seti üzerinde gerçekleştirilecektir.\n",
        "#Bu, sklearn kitaplığındaki train_test_split aracılığıyla yapılabilir. \n",
        "#Test_size = 0.3 parametresini ayarladığımız için Eğitim Verilerin % 70'ine sahip olacak ve Test verileri kalan %30'a sahip olacaktır.\n",
        "Train_X, Test_X, Train_Y, Test_Y = model_selection.train_test_split(Corpus['comments'],Corpus['sentiments'],test_size=0.3)"
      ],
      "execution_count": 4,
      "outputs": []
    },
    {
      "cell_type": "code",
      "metadata": {
        "id": "FoXIeImoJ0ri"
      },
      "source": [
        "# Etiket, hedef değişkeni kodlar\n",
        "#Bu, veri kümesindeki dizi türünün Kategorik verilerini modelin anlayabileceği sayısal değerlere dönüştürmek için yapılır.\n",
        "Encoder = LabelEncoder()\n",
        "Train_Y = Encoder.fit_transform(Train_Y)\n",
        "Test_Y = Encoder.fit_transform(Test_Y)"
      ],
      "execution_count": 5,
      "outputs": []
    },
    {
      "cell_type": "markdown",
      "metadata": {
        "id": "aYIKW_n8kDaK"
      },
      "source": [
        "Metin belgelerinin bir koleksiyonunu sayısal özellik vektörlerine dönüştürmenin genel bir işlemidir. Metin verilerini modelin anlayabileceği vektörlere dönüştürmek için birçok yöntem vardır, ancak en popüler yönteme TF-IDF denir. Bu, her kelimeye atanan sonuç puanlarının bileşenleri olan \"Terim Frekansı - Ters Belge\" Sıklığı anlamına gelen bir kısaltmadır.\n",
        "1. Terim Sıklığı: Bu, belirli bir kelimenin bir belgede ne sıklıkla göründüğünü özetler.\n",
        "2. Ters Belge Frekansı: Bu, belgelerde çok görünen sözcüklerin ölçeğini küçültür.\n",
        "\n",
        "\n",
        "\n"
      ]
    },
    {
      "cell_type": "code",
      "metadata": {
        "id": "q8GigoXbJ4I2"
      },
      "source": [
        "#Max_features = 5000 parametresini ayarladığımız için maksimum 5000 benzersiz kelime / özellik olacaktır.\n",
        "Tfidf_vect = TfidfVectorizer(max_features=5000)\n",
        "Tfidf_vect.fit(Corpus['comments'])\n",
        "#Son olarak, Train_X ve Test_X'i vektörleştirilmiş Train_X_Tfidf ve Test_X_Tfidf'e dönüştüreceğiz. \n",
        "#Bunlar artık her satır için benzersiz bir tamsayı listesi ve bunların TF-IDF tarafından hesaplanan ilişkili önemlerini içerecektir.\n",
        "Train_X_Tfidf = Tfidf_vect.transform(Train_X)\n",
        "Test_X_Tfidf = Tfidf_vect.transform(Test_X)"
      ],
      "execution_count": 6,
      "outputs": []
    },
    {
      "cell_type": "markdown",
      "metadata": {
        "id": "jwxk643ecQ9P"
      },
      "source": [
        "**Naive** **Bayes** **Multinomial**"
      ]
    },
    {
      "cell_type": "code",
      "metadata": {
        "colab": {
          "base_uri": "https://localhost:8080/"
        },
        "id": "dHn7eEd06N2k",
        "outputId": "e8e61c37-e306-4470-c6b6-8063daa17440"
      },
      "source": [
        "# Eğitim veri kümesini NB sınıflandırıcısına sığdır\n",
        "Naive = naive_bayes.MultinomialNB()\n",
        "Naive.fit(Train_X_Tfidf,Train_Y)\n",
        "# doğrulama veri kümesindeki etiketleri tahmin et\n",
        "predictions_NB = Naive.predict(Test_X_Tfidf)\n",
        "# Doğruluğu elde etmek için accuracy,recall,precision ve f1 score hesapla\n",
        "print(\"Naive Bayes Accuracy Score -> \",accuracy_score(predictions_NB, Test_Y))\n",
        "print(\"Naive Bayes Precision Score -> \",precision_score(predictions_NB, Test_Y))\n",
        "print(\"Naive Bayes Recall Score -> \",recall_score(predictions_NB, Test_Y))\n",
        "print(\"Naive Bayes F1 Score -> \",f1_score(predictions_NB, Test_Y))\n",
        "print(\"Naive Bayes Cohen's Kappa -> \",cohen_kappa_score(predictions_NB, Test_Y))"
      ],
      "execution_count": 7,
      "outputs": [
        {
          "output_type": "stream",
          "text": [
            "Naive Bayes Accuracy Score ->  0.8667562122229684\n",
            "Naive Bayes Precision Score ->  0.9581206567861755\n",
            "Naive Bayes Recall Score ->  0.8716083916083917\n",
            "Naive Bayes F1 Score ->  0.9128193109913288\n",
            "Naive Bayes Cohen's Kappa ->  0.6329644900978654\n"
          ],
          "name": "stdout"
        }
      ]
    },
    {
      "cell_type": "markdown",
      "metadata": {
        "id": "CLK3TyxBcepI"
      },
      "source": [
        "**Naive** **Bayes** **Bernoulli**\n"
      ]
    },
    {
      "cell_type": "code",
      "metadata": {
        "colab": {
          "base_uri": "https://localhost:8080/"
        },
        "id": "PHgl00_8PyxZ",
        "outputId": "48e7565b-9286-4249-bd9b-bbb710b4fc0d"
      },
      "source": [
        "# Eğitim veri kümesini NB sınıflandırıcısına sığdır\n",
        "Naive = naive_bayes.BernoulliNB()\n",
        "Naive.fit(Train_X_Tfidf,Train_Y)\n",
        "# doğrulama veri kümesindeki etiketleri tahmin et\n",
        "predictions_NB = Naive.predict(Test_X_Tfidf)\n",
        "# Doğruluğu elde etmek için accuracy,recall,precision ve f1 score hesapla\n",
        "print(\"Naive Bayes Accuracy Score -> \",accuracy_score(predictions_NB, Test_Y))\n",
        "print(\"Naive Bayes Precision Score -> \",precision_score(predictions_NB, Test_Y))\n",
        "print(\"Naive Bayes Recall Score -> \",recall_score(predictions_NB, Test_Y))\n",
        "print(\"Naive Bayes F1 Score -> \",f1_score(predictions_NB, Test_Y))\n",
        "print(\"Naive Bayes Cohen's Kappa -> \",cohen_kappa_score(predictions_NB, Test_Y))"
      ],
      "execution_count": 9,
      "outputs": [
        {
          "output_type": "stream",
          "text": [
            "Naive Bayes Accuracy Score ->  0.8368927691963286\n",
            "Naive Bayes Precision Score ->  0.9391181354160261\n",
            "Naive Bayes Recall Score ->  0.8519861638027226\n",
            "Naive Bayes F1 Score ->  0.8934327921603042\n",
            "Naive Bayes Cohen's Kappa ->  0.549460326025178\n"
          ],
          "name": "stdout"
        }
      ]
    },
    {
      "cell_type": "code",
      "metadata": {
        "colab": {
          "base_uri": "https://localhost:8080/"
        },
        "id": "r1UBiUhSfXJ2",
        "outputId": "03b54e86-6faa-4580-e62c-b0c529c5dc55"
      },
      "source": [
        "from sklearn.metrics import confusion_matrix\n",
        "cm = confusion_matrix(y_pred=predictions_NB,y_true=Test_Y)\n",
        "print('True Positives: ',cm[1,1])\n",
        "print('False Positives: ',cm[0,1])\n",
        "print('True Negatives: ',cm[0,0])\n",
        "print('False Negatives: ',cm[1,0])"
      ],
      "execution_count": 15,
      "outputs": [
        {
          "output_type": "stream",
          "text": [
            "True Positives:  15271\n",
            "False Positives:  2653\n",
            "True Negatives:  3421\n",
            "False Negatives:  990\n"
          ],
          "name": "stdout"
        }
      ]
    },
    {
      "cell_type": "markdown",
      "metadata": {
        "id": "F95SZddgcjL8"
      },
      "source": [
        "**Naive Bayes GaussianNB**"
      ]
    },
    {
      "cell_type": "code",
      "metadata": {
        "colab": {
          "base_uri": "https://localhost:8080/"
        },
        "id": "r6Tv1WzCPaif",
        "outputId": "e7eea0d3-b09d-4b4e-a5f7-6b00c677a555"
      },
      "source": [
        "# Eğitim veri kümesini NB sınıflandırıcısına sığdır\n",
        "Naive = naive_bayes.GaussianNB()\n",
        "Naive.fit(Train_X_Tfidf.toarray(),Train_Y)\n",
        "# doğrulama veri kümesindeki etiketleri tahmin et\n",
        "predictions_NB = Naive.predict(Test_X_Tfidf.toarray())\n",
        "# Doğruluğu elde etmek için accuracy,recall,precision ve f1 score hesapla\n",
        "print(\"Naive Bayes Accuracy Score -> \",accuracy_score(predictions_NB, Test_Y))\n",
        "print(\"Naive Bayes Precision Score -> \",precision_score(predictions_NB, Test_Y))\n",
        "print(\"Naive Bayes Recall Score -> \",recall_score(predictions_NB, Test_Y))\n",
        "print(\"Naive Bayes F1 Score -> \",f1_score(predictions_NB, Test_Y))\n",
        "print(\"Naive Bayes Cohen's Kappa -> \",cohen_kappa_score(predictions_NB, Test_Y))"
      ],
      "execution_count": 16,
      "outputs": [
        {
          "output_type": "stream",
          "text": [
            "Naive Bayes Accuracy Score ->  0.8342959480635773\n",
            "Naive Bayes Precision Score ->  0.9289711579853638\n",
            "Naive Bayes Recall Score ->  0.8557670518921369\n",
            "Naive Bayes F1 Score ->  0.890867808804883\n",
            "Naive Bayes Cohen's Kappa ->  0.5492037615989585\n"
          ],
          "name": "stdout"
        }
      ]
    },
    {
      "cell_type": "code",
      "metadata": {
        "colab": {
          "base_uri": "https://localhost:8080/"
        },
        "id": "2MoX_PSsmNqq",
        "outputId": "1b99cfe1-df76-472c-c6c7-599f5d5e0b68"
      },
      "source": [
        "from sklearn.metrics import confusion_matrix\n",
        "cm = confusion_matrix(y_pred=predictions_NB,y_true=Test_Y)\n",
        "print('True Positives: ',cm[1,1])\n",
        "print('False Positives: ',cm[0,1])\n",
        "print('True Negatives: ',cm[0,0])\n",
        "print('False Negatives: ',cm[1,0])"
      ],
      "execution_count": 17,
      "outputs": [
        {
          "output_type": "stream",
          "text": [
            "True Positives:  15106\n",
            "False Positives:  2546\n",
            "True Negatives:  3528\n",
            "False Negatives:  1155\n"
          ],
          "name": "stdout"
        }
      ]
    },
    {
      "cell_type": "markdown",
      "metadata": {
        "id": "p9K5GPoxkbjm"
      },
      "source": [
        "**SVM Polynomial**"
      ]
    },
    {
      "cell_type": "code",
      "metadata": {
        "colab": {
          "base_uri": "https://localhost:8080/"
        },
        "id": "WoZXZGmfgrCv",
        "outputId": "1baa494e-87bc-4e6d-fc30-8a77ee6a8235"
      },
      "source": [
        "# Classifier - Algorithm - SVM\n",
        "# Eğitim veri kümesini  sınıflandırıcıya sığdır\n",
        "SVM = svm.SVC(C=1.0, kernel='poly', degree=3, gamma='scale')\n",
        "SVM.fit(Train_X_Tfidf,Train_Y)\n",
        "# doğrulama veri kümesindeki etiketleri tahmin et\n",
        "predictions_SVM = SVM.predict(Test_X_Tfidf)\n",
        "# Doğruluğu elde etmek için accuracy,recall,precision ve f1 score hesapla\n",
        "print(\"SVM Accuracy Score -> \",accuracy_score(predictions_SVM, Test_Y))\n",
        "print(\"SVM  Precision Score -> \",precision_score(predictions_SVM, Test_Y))\n",
        "print(\"SVM  Recall Score -> \",recall_score(predictions_SVM, Test_Y))\n",
        "print(\"SVM  F1 Score -> \",f1_score(predictions_SVM, Test_Y))\n",
        "print(\"SVM Cohen's Kappa -> \",cohen_kappa_score(predictions_SVM, Test_Y))"
      ],
      "execution_count": 18,
      "outputs": [
        {
          "output_type": "stream",
          "text": [
            "SVM Accuracy Score ->  0.8813521379001567\n",
            "SVM  Precision Score ->  0.9280487054916672\n",
            "SVM  Recall Score ->  0.91068734536238\n",
            "SVM  F1 Score ->  0.9192860623781677\n",
            "SVM Cohen's Kappa ->  0.6955059695291288\n"
          ],
          "name": "stdout"
        }
      ]
    },
    {
      "cell_type": "code",
      "metadata": {
        "colab": {
          "base_uri": "https://localhost:8080/"
        },
        "id": "wqlNwNeWmZxA",
        "outputId": "1fef469f-64d0-4b98-b950-9c99c899e609"
      },
      "source": [
        "from sklearn.metrics import confusion_matrix\n",
        "cm = confusion_matrix(y_pred=predictions_SVM,y_true=Test_Y)\n",
        "print('True Positives: ',cm[1,1])\n",
        "print('False Positives: ',cm[0,1])\n",
        "print('True Negatives: ',cm[0,0])\n",
        "print('False Negatives: ',cm[1,0])"
      ],
      "execution_count": 19,
      "outputs": [
        {
          "output_type": "stream",
          "text": [
            "True Positives:  15091\n",
            "False Positives:  1480\n",
            "True Negatives:  4594\n",
            "False Negatives:  1170\n"
          ],
          "name": "stdout"
        }
      ]
    },
    {
      "cell_type": "markdown",
      "metadata": {
        "id": "lJwQKtDLtBZ5"
      },
      "source": [
        "**SVM RBF**"
      ]
    },
    {
      "cell_type": "code",
      "metadata": {
        "colab": {
          "base_uri": "https://localhost:8080/"
        },
        "id": "l2cIaIpml4cw",
        "outputId": "268a42c0-83c1-4f86-df07-f87920541289"
      },
      "source": [
        "# Classifier - Algorithm - SVM\n",
        "# Eğitim veri kümesini  sınıflandırıcıya sığdır\n",
        "SVM = svm.SVC(C=1.0, kernel='rbf', degree=3, gamma='scale')\n",
        "SVM.fit(Train_X_Tfidf,Train_Y)\n",
        "# doğrulama veri kümesindeki etiketleri tahmin et\n",
        "predictions_SVM = SVM.predict(Test_X_Tfidf)\n",
        "# Doğruluğu elde etmek için accuracy,recall,precision ve f1 score hesapla\n",
        "print(\"SVM Accuracy Score -> \",accuracy_score(predictions_SVM, Test_Y))\n",
        "print(\"SVM  Precision Score -> \",precision_score(predictions_SVM, Test_Y))\n",
        "print(\"SVM  Recall Score -> \",recall_score(predictions_SVM, Test_Y))\n",
        "print(\"SVM  F1 Score -> \",f1_score(predictions_SVM, Test_Y))\n",
        "print(\"SVM Cohen's Kappa -> \",cohen_kappa_score(predictions_SVM, Test_Y))"
      ],
      "execution_count": 20,
      "outputs": [
        {
          "output_type": "stream",
          "text": [
            "SVM Accuracy Score ->  0.9022162525184688\n",
            "SVM  Precision Score ->  0.9513560051657339\n",
            "SVM  Recall Score ->  0.9173931091739311\n",
            "SVM  F1 Score ->  0.9340659340659341\n",
            "SVM Cohen's Kappa ->  0.7451510076060603\n"
          ],
          "name": "stdout"
        }
      ]
    },
    {
      "cell_type": "code",
      "metadata": {
        "colab": {
          "base_uri": "https://localhost:8080/"
        },
        "id": "jXSK9ngzqW9h",
        "outputId": "75829b0b-d6b7-429f-e06b-d664010391c0"
      },
      "source": [
        "from sklearn.metrics import confusion_matrix\n",
        "cm = confusion_matrix(y_pred=predictions_SVM,y_true=Test_Y)\n",
        "print('True Positives: ',cm[1,1])\n",
        "print('False Positives: ',cm[0,1])\n",
        "print('True Negatives: ',cm[0,0])\n",
        "print('False Negatives: ',cm[1,0])"
      ],
      "execution_count": 21,
      "outputs": [
        {
          "output_type": "stream",
          "text": [
            "True Positives:  15470\n",
            "False Positives:  1393\n",
            "True Negatives:  4681\n",
            "False Negatives:  791\n"
          ],
          "name": "stdout"
        }
      ]
    },
    {
      "cell_type": "markdown",
      "metadata": {
        "id": "uKITTid2tDXs"
      },
      "source": [
        "**SVM Sigmoid**"
      ]
    },
    {
      "cell_type": "code",
      "metadata": {
        "id": "Szagvu_toEcM",
        "colab": {
          "base_uri": "https://localhost:8080/"
        },
        "outputId": "42debd76-223b-4a8e-c944-3460fb0aa00d"
      },
      "source": [
        "# Classifier - Algorithm - SVM\n",
        "# Eğitim veri kümesini  sınıflandırıcıya sığdır\n",
        "SVM = svm.SVC(C=1.0, kernel='sigmoid', degree=3, gamma='scale')\n",
        "SVM.fit(Train_X_Tfidf,Train_Y)\n",
        "# doğrulama veri kümesindeki etiketleri tahmin et\n",
        "predictions_SVM = SVM.predict(Test_X_Tfidf)\n",
        "# Doğruluğu elde etmek için accuracy,recall,precision ve f1 score hesapla\n",
        "print(\"SVM Accuracy Score -> \",accuracy_score(predictions_SVM, Test_Y))\n",
        "print(\"SVM  Precision Score -> \",precision_score(predictions_SVM, Test_Y))\n",
        "print(\"SVM  Recall Score -> \",recall_score(predictions_SVM, Test_Y))\n",
        "print(\"SVM  F1 Score -> \",f1_score(predictions_SVM, Test_Y))\n",
        "print(\"SVM Cohen's Kappa -> \",cohen_kappa_score(predictions_SVM, Test_Y))"
      ],
      "execution_count": 22,
      "outputs": [
        {
          "output_type": "stream",
          "text": [
            "SVM Accuracy Score ->  0.8154466084620551\n",
            "SVM  Precision Score ->  0.8858003812803641\n",
            "SVM  Recall Score ->  0.8641190233367328\n",
            "SVM  F1 Score ->  0.8748253871849377\n",
            "SVM Cohen's Kappa ->  0.5239230541495383\n"
          ],
          "name": "stdout"
        }
      ]
    },
    {
      "cell_type": "code",
      "metadata": {
        "colab": {
          "base_uri": "https://localhost:8080/"
        },
        "id": "anEJFBTCqZmr",
        "outputId": "537ed1d2-8158-4964-a13d-5234724da232"
      },
      "source": [
        "from sklearn.metrics import confusion_matrix\n",
        "cm = confusion_matrix(y_pred=predictions_SVM,y_true=Test_Y)\n",
        "print('True Positives: ',cm[1,1])\n",
        "print('False Positives: ',cm[0,1])\n",
        "print('True Negatives: ',cm[0,0])\n",
        "print('False Negatives: ',cm[1,0])"
      ],
      "execution_count": 23,
      "outputs": [
        {
          "output_type": "stream",
          "text": [
            "True Positives:  14404\n",
            "False Positives:  2265\n",
            "True Negatives:  3809\n",
            "False Negatives:  1857\n"
          ],
          "name": "stdout"
        }
      ]
    },
    {
      "cell_type": "markdown",
      "metadata": {
        "id": "BZp9281HqaW_"
      },
      "source": [
        "**SVM Linear**"
      ]
    },
    {
      "cell_type": "code",
      "metadata": {
        "colab": {
          "base_uri": "https://localhost:8080/"
        },
        "id": "OrVLGA2ykkFS",
        "outputId": "5b056015-7992-4915-be02-2796df2fdf53"
      },
      "source": [
        "# Classifier - Algorithm - SVM\n",
        "# Eğitim veri kümesini  sınıflandırıcıya sığdır\n",
        "SVM = svm.SVC(C=1.0, kernel='linear', degree=3, gamma='auto')\n",
        "SVM.fit(Train_X_Tfidf,Train_Y)\n",
        "# doğrulama veri kümesindeki etiketleri tahmin et\n",
        "predictions_SVM = SVM.predict(Test_X_Tfidf)\n",
        "# Doğruluğu elde etmek için accuracy,recall,precision ve f1 score hesapla\n",
        "print(\"SVM Accuracy Score -> \",accuracy_score(predictions_SVM, Test_Y))\n",
        "print(\"SVM  Precision Score -> \",precision_score(predictions_SVM, Test_Y))\n",
        "print(\"SVM  Recall Score -> \",recall_score(predictions_SVM, Test_Y))\n",
        "print(\"SVM  F1 Score -> \",f1_score(predictions_SVM, Test_Y))\n",
        "print(\"SVM Cohen's Kappa -> \",cohen_kappa_score(predictions_SVM, Test_Y))"
      ],
      "execution_count": 24,
      "outputs": [
        {
          "output_type": "stream",
          "text": [
            "SVM Accuracy Score ->  0.8916498768748601\n",
            "SVM  Precision Score ->  0.9453908123731628\n",
            "SVM  Recall Score ->  0.9093759242827566\n",
            "SVM  F1 Score ->  0.9270337092202858\n",
            "SVM Cohen's Kappa ->  0.7169797390487501\n"
          ],
          "name": "stdout"
        }
      ]
    },
    {
      "cell_type": "code",
      "metadata": {
        "colab": {
          "base_uri": "https://localhost:8080/"
        },
        "id": "OQbY4YXzrGrn",
        "outputId": "16a44440-8572-43f0-acff-af658308a3e3"
      },
      "source": [
        "from sklearn.metrics import confusion_matrix\n",
        "cm = confusion_matrix(y_pred=predictions_SVM,y_true=Test_Y)\n",
        "print('True Positives: ',cm[1,1])\n",
        "print('False Positives: ',cm[0,1])\n",
        "print('True Negatives: ',cm[0,0])\n",
        "print('False Negatives: ',cm[1,0])"
      ],
      "execution_count": 25,
      "outputs": [
        {
          "output_type": "stream",
          "text": [
            "True Positives:  15373\n",
            "False Positives:  1532\n",
            "True Negatives:  4542\n",
            "False Negatives:  888\n"
          ],
          "name": "stdout"
        }
      ]
    }
  ]
}
