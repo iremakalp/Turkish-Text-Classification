{
  "nbformat": 4,
  "nbformat_minor": 0,
  "metadata": {
    "colab": {
      "name": "RNN_Son.ipynb ",
      "provenance": [],
      "collapsed_sections": []
    },
    "kernelspec": {
      "name": "python3",
      "display_name": "Python 3"
    },
    "language_info": {
      "name": "python"
    }
  },
  "cells": [
    {
      "cell_type": "markdown",
      "metadata": {
        "id": "o50XanJSLg8l"
      },
      "source": [
        "referans https://github.com/aaryaab/Text-Classification-with-RNN/blob/main/rnn_with_imdb.py"
      ]
    },
    {
      "cell_type": "code",
      "metadata": {
        "id": "FrZE7VVrq7ZI"
      },
      "source": [
        "import numpy as np\n",
        "import pandas as pd\n",
        "import tensorflow as tf\n",
        "import matplotlib.pyplot as plt\n",
        "import seaborn as sns\n",
        "from sklearn.model_selection import train_test_split\n",
        "from sklearn.preprocessing import LabelEncoder\n",
        "from keras.models import Model\n",
        "from keras.layers import LSTM,  Dense, Input, Embedding\n",
        "from keras.optimizers import RMSprop\n",
        "from keras.preprocessing.text import Tokenizer\n",
        "from keras.preprocessing import sequence\n",
        "from keras.utils import to_categorical\n",
        "from keras.callbacks import EarlyStopping\n",
        "%matplotlib inline"
      ],
      "execution_count": null,
      "outputs": []
    },
    {
      "cell_type": "code",
      "metadata": {
        "id": "SsUlQHdgr4-5"
      },
      "source": [
        "df = pd.read_csv('/content/drive/MyDrive/veri/etiketliDataset.csv',encoding='utf-8-sig')"
      ],
      "execution_count": null,
      "outputs": []
    },
    {
      "cell_type": "code",
      "metadata": {
        "id": "RDSJ9WnQsgGw"
      },
      "source": [
        "#Girdi ve çıktı vektörleri oluşturun.\n",
        "#Etiketleri işleyin.\n",
        "X = df.comments\n",
        "Y = df.sentiments\n",
        "le = LabelEncoder()\n",
        "Y = le.fit_transform(Y)\n",
        "Y = Y.reshape(-1,1)"
      ],
      "execution_count": null,
      "outputs": []
    },
    {
      "cell_type": "code",
      "metadata": {
        "id": "0DtfsxCPsl82"
      },
      "source": [
        "#Eğitim ve test verilerine böl\n",
        "x_train,x_test, y_train, y_test = train_test_split(X,Y,test_size=0.30)"
      ],
      "execution_count": null,
      "outputs": []
    },
    {
      "cell_type": "code",
      "metadata": {
        "id": "uJbFWj-fq-nH"
      },
      "source": [
        "words=20000\n",
        "max_length=100\n",
        "tok = Tokenizer(num_words=words)\n",
        "tok.fit_on_texts(x_train)\n",
        "sequences  = tok.texts_to_sequences(x_train)\n",
        "sequences_matrix  = sequence.pad_sequences(sequences,maxlen=max_length)\n",
        "word_size=words\n",
        "embed_size=128"
      ],
      "execution_count": null,
      "outputs": []
    },
    {
      "cell_type": "code",
      "metadata": {
        "colab": {
          "base_uri": "https://localhost:8080/"
        },
        "id": "PUyvVn20ut5P",
        "outputId": "76e29c99-3aec-46a6-c068-4a60798d59c6"
      },
      "source": [
        "#Tekrarlayan Bir Sinir Ağı Oluştur\n",
        "model=tf.keras.Sequential()\n",
        "# Embedding Layer\n",
        "model.add(tf.keras.layers.Embedding(word_size, embed_size,input_length=max_length))\n",
        "# LSTM Layer\n",
        "model.add(tf.keras.layers.LSTM(units=128, activation='tanh'))\n",
        "# Output Layer\n",
        "model.add(tf.keras.layers.Dense(units=1, activation='sigmoid'))\n",
        "model.summary()"
      ],
      "execution_count": null,
      "outputs": [
        {
          "output_type": "stream",
          "text": [
            "Model: \"sequential\"\n",
            "_________________________________________________________________\n",
            "Layer (type)                 Output Shape              Param #   \n",
            "=================================================================\n",
            "embedding (Embedding)        (None, 100, 128)          2560000   \n",
            "_________________________________________________________________\n",
            "lstm (LSTM)                  (None, 128)               131584    \n",
            "_________________________________________________________________\n",
            "dense (Dense)                (None, 1)                 129       \n",
            "=================================================================\n",
            "Total params: 2,691,713\n",
            "Trainable params: 2,691,713\n",
            "Non-trainable params: 0\n",
            "_________________________________________________________________\n"
          ],
          "name": "stdout"
        }
      ]
    },
    {
      "cell_type": "code",
      "metadata": {
        "id": "x-IgMUaVwupm"
      },
      "source": [
        "#Modeli derlemek\n",
        "model.compile(optimizer='rmsprop', loss='binary_crossentropy', metrics=['accuracy'])"
      ],
      "execution_count": null,
      "outputs": []
    },
    {
      "cell_type": "code",
      "metadata": {
        "colab": {
          "base_uri": "https://localhost:8080/"
        },
        "id": "_zA1p6BtwzNl",
        "outputId": "a988c125-b868-4cc5-b40d-cdb95743540b"
      },
      "source": [
        "test_sequences = tok.texts_to_sequences(x_test)\n",
        "test_sequences_matrix = sequence.pad_sequences(test_sequences,maxlen=max_length)\n",
        "t = model.fit(sequences_matrix, y_train, epochs = 5, batch_size=128,validation_data=(test_sequences_matrix,y_test))\n",
        "test_loss, test_acc = model.evaluate(test_sequences_matrix, y_test,verbose=2,batch_size=128)\n",
        "print(\"Test accuracy: {}\".format(test_acurracy))"
      ],
      "execution_count": null,
      "outputs": [
        {
          "output_type": "stream",
          "text": [
            "Epoch 1/5\n",
            "408/408 [==============================] - 172s 423ms/step - loss: 0.0504 - accuracy: 0.9830 - val_loss: 0.4571 - val_accuracy: 0.8801\n",
            "Epoch 2/5\n",
            "408/408 [==============================] - 174s 426ms/step - loss: 0.0466 - accuracy: 0.9845 - val_loss: 0.4728 - val_accuracy: 0.8786\n",
            "Epoch 3/5\n",
            "408/408 [==============================] - 173s 425ms/step - loss: 0.0423 - accuracy: 0.9860 - val_loss: 0.4929 - val_accuracy: 0.8727\n",
            "Epoch 4/5\n",
            "408/408 [==============================] - 173s 423ms/step - loss: 0.0393 - accuracy: 0.9873 - val_loss: 0.5072 - val_accuracy: 0.8867\n",
            "Epoch 5/5\n",
            "408/408 [==============================] - 172s 423ms/step - loss: 0.0360 - accuracy: 0.9883 - val_loss: 0.5863 - val_accuracy: 0.8723\n",
            "175/175 - 20s - loss: 0.5863 - accuracy: 0.8723\n",
            "Test accuracy: 0.8858742117881775\n"
          ],
          "name": "stdout"
        }
      ]
    },
    {
      "cell_type": "code",
      "metadata": {
        "colab": {
          "base_uri": "https://localhost:8080/",
          "height": 295
        },
        "id": "xwb6fv7rkGQ4",
        "outputId": "fe447f99-2a96-442f-9e1b-46ec05a58ee7"
      },
      "source": [
        "from matplotlib import pyplot as plt\n",
        "plt.plot(t.history['accuracy'])\n",
        "plt.plot(t.history['val_accuracy'])\n",
        "plt.title('model accuracy')\n",
        "plt.ylabel('accuracy')\n",
        "plt.xlabel('epoch')\n",
        "plt.legend(['train', 'val'], loc='upper left')\n",
        "plt.show()\n"
      ],
      "execution_count": null,
      "outputs": [
        {
          "output_type": "display_data",
          "data": {
            "image/png": "[encoded data removed]",
            "text/plain": [
              "<Figure size 432x288 with 1 Axes>"
            ]
          },
          "metadata": {
            "tags": [],
            "needs_background": "light"
          }
        }
      ]
    },
    {
      "cell_type": "markdown",
      "metadata": {
        "id": "pbYbVTkPem09"
      },
      "source": [
        "referans: https://www.kaggle.com/egebasturk1/yemeksepeti-sentiment-analysis/data?select=lm.2gram.slm"
      ]
    },
    {
      "cell_type": "code",
      "metadata": {
        "id": "kPH0gV8JKqlh",
        "colab": {
          "base_uri": "https://localhost:8080/"
        },
        "outputId": "635bb6ab-eb20-4328-f069-ae3de202a466"
      },
      "source": [
        "#confusion matrix\n",
        "y_pred=model.predict(test_sequences_matrix,  batch_size=128, verbose=2, steps=None)\n",
        "y_pred=y_pred>0.5\n",
        "from sklearn.metrics import accuracy_score, precision_score, recall_score,f1_score,cohen_kappa_score\n",
        "from sklearn.metrics import confusion_matrix\n",
        "cm = confusion_matrix(y_pred=y_pred,y_true=y_test)\n",
        "print('True Positives: ',cm[1,1])\n",
        "print('False Positives: ',cm[0,1])\n",
        "print('True Negatives: ',cm[0,0])\n",
        "print('False Negatives: ',cm[1,0])\n",
        "from sklearn.metrics import accuracy_score"
      ],
      "execution_count": null,
      "outputs": [
        {
          "output_type": "stream",
          "text": [
            "22335/22335 [==============================] - 144s 6ms/step\n",
            "True Positives:  15556\n",
            "False Positives:  1337\n",
            "True Negatives:  4638\n",
            "False Negatives:  804\n",
            "Accuracy: 0.904141\n"
          ],
          "name": "stdout"
        }
      ]
    },
    {
      "cell_type": "code",
      "metadata": {
        "colab": {
          "base_uri": "https://localhost:8080/"
        },
        "id": "zKjEhp0hZUCa",
        "outputId": "64135b43-02cc-4ac6-e18b-4ac84b26e968"
      },
      "source": [
        "from sklearn.metrics import accuracy_score, precision_score, recall_score,f1_score,cohen_kappa_score\n",
        "print(\"RNN Accuracy Score -> \",accuracy)\n",
        "print(\"RNN Precision Score -> \",precision_score(y_test,y_pred))\n",
        "print(\"RNN Recall Score -> \",recall_score(y_test,y_pred))\n",
        "print(\"RNN F1 Score -> \",f1_score(y_test,y_pred))\n",
        "print(\"RNN Cohen's Kappa -> \",cohen_kappa_score(y_test,y_pred))"
      ],
      "execution_count": null,
      "outputs": [
        {
          "output_type": "stream",
          "text": [
            "RNN Accuracy Score ->  0.9041414819789568\n",
            "RNN Precision Score ->  0.9208547919256497\n",
            "RNN Recall Score ->  0.9508557457212714\n",
            "RNN F1 Score ->  0.9356148317445043\n",
            "RNN Cohen's Kappa ->  0.7482758236775011\n"
          ],
          "name": "stdout"
        }
      ]
    }
  ]
}