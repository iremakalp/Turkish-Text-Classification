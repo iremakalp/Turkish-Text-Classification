{
  "nbformat": 4,
  "nbformat_minor": 0,
  "metadata": {
    "accelerator": "GPU",
    "colab": {
      "name": "MLP.ipynb",
      "provenance": [],
      "collapsed_sections": []
    },
    "kernelspec": {
      "display_name": "Python 3",
      "name": "python3"
    },
    "language_info": {
      "name": "python"
    }
  },
  "cells": [
    {
      "cell_type": "code",
      "metadata": {
        "id": "fbFV_VxjT352"
      },
      "source": [
        "import numpy as np\n",
        "import pandas as pd\n",
        "import os\n",
        "from sklearn.feature_extraction.text import CountVectorizer\n",
        "from sklearn.model_selection import train_test_split\n",
        "from sklearn.metrics import accuracy_score, precision_score, recall_score,f1_score,cohen_kappa_score\n",
        "from sklearn.decomposition import PCA\n",
        "from sklearn.neural_network import MLPClassifier"
      ],
      "execution_count": 1,
      "outputs": []
    },
    {
      "cell_type": "code",
      "metadata": {
        "id": "y2QwCL-Nc0uB"
      },
      "source": [
        "df = pd.read_csv('/content/drive/MyDrive/veri/dataset.csv',encoding='utf-8-sig')\n",
        "df = df[['comments', 'sentiments']]\n",
        "df.columns = ['comments', 'sentiments']"
      ],
      "execution_count": 2,
      "outputs": []
    },
    {
      "cell_type": "markdown",
      "metadata": {
        "id": "fnPewrJhc6IM"
      },
      "source": [
        "* strip_Accent  = Ön işleme adımı sırasında accentleri kaldırın diğer karakter normalleştirmelerini gerçekleştirin.\n",
        "* ngram_range= Çıkarılacak farklı kelime n-gramları veya karakter-gramları için n-değerleri aralığının alt ve üst sınırı.\n",
        "\n",
        "\n"
      ]
    },
    {
      "cell_type": "code",
      "metadata": {
        "id": "34Z17zbUVhCD"
      },
      "source": [
        "countvec = CountVectorizer(ngram_range=(1,4),strip_accents='unicode', max_features=2000)\n",
        "X = df.comments.values\n",
        "y = df.sentiments.values\n",
        "X_train, X_test, y_train, y_test = train_test_split(X, y,  test_size = 0.3,   random_state = 0)\n",
        "X_train = countvec.fit_transform(X_train.astype(\"str\"))\n",
        "X_test = countvec.transform(X_test.astype(\"str\"))"
      ],
      "execution_count": 3,
      "outputs": []
    },
    {
      "cell_type": "markdown",
      "metadata": {
        "id": "jPuKdDopcann"
      },
      "source": [
        "* Verbose = İlerleme mesajlarını konsola yazdırıp yazdırılmayacağı\n",
        "* Hidden_layer_sizes = Bu parametre, Sinir Ağı Sınıflandırıcısında sahip olmak \n",
        "istediğimiz katman sayısını ve düğüm sayısını ayarlamamıza izin verir. \n",
        "* Demetteki her öğe, i'nin başlığın indeksi olduğu i'nci konumdaki düğüm sayısını temsil eder. Bu nedenle, demet uzunluğu, ağdaki toplam gizli katman sayısını gösterir.\n",
        "\n",
        "\n",
        "\n",
        "\n",
        "\n",
        "\n",
        "\n"
      ]
    },
    {
      "cell_type": "code",
      "metadata": {
        "id": "MjDwLU61VirX"
      },
      "source": [
        "mlp = MLPClassifier(hidden_layer_sizes=(400,400,100),activation = 'relu', verbose=False)\n",
        "mlp.fit(X_train, y_train)\n",
        "predictions_mlp = mlp.predict(X_test)"
      ],
      "execution_count": 4,
      "outputs": []
    },
    {
      "cell_type": "code",
      "metadata": {
        "colab": {
          "base_uri": "https://localhost:8080/"
        },
        "id": "5KFs18gphUex",
        "outputId": "d3c6a08d-2b6d-44b8-ca67-dadfda651baa"
      },
      "source": [
        "print(\"MLP Accuracy Score -> \",accuracy_score(predictions_mlp, y_test))\n",
        "print(\"MLP Precision Score -> \",precision_score(predictions_mlp, y_test))\n",
        "print(\"MLP Recall Score -> \",recall_score(predictions_mlp, y_test))\n",
        "print(\"MLP F1 Score -> \",f1_score(predictions_mlp, y_test))\n",
        "print(\"MLP Cohen's Kappa -> \",cohen_kappa_score(predictions_mlp,y_test))"
      ],
      "execution_count": 6,
      "outputs": [
        {
          "output_type": "stream",
          "text": [
            "MLP Accuracy Score ->  0.8884262368479964\n",
            "MLP Precision Score ->  0.9378924042841315\n",
            "MLP Recall Score ->  0.9113038277511962\n",
            "MLP F1 Score ->  0.9244069647515621\n",
            "MLP Cohen's Kappa ->  0.7116562106585127\n"
          ],
          "name": "stdout"
        }
      ]
    },
    {
      "cell_type": "code",
      "metadata": {
        "colab": {
          "base_uri": "https://localhost:8080/"
        },
        "id": "GZtwdXrcrKDn",
        "outputId": "caf20526-096e-4e7f-f61d-9a080503d9cb"
      },
      "source": [
        "from sklearn.metrics import confusion_matrix\n",
        "cm = confusion_matrix(y_pred=predictions_mlp,y_true=y_test)\n",
        "print('True Positives: ',cm[1,1])\n",
        "print('False Positives: ',cm[0,1])\n",
        "print('True Negatives: ',cm[0,0])\n",
        "print('False Negatives: ',cm[1,0])"
      ],
      "execution_count": 8,
      "outputs": [
        {
          "output_type": "stream",
          "text": [
            "True Positives:  15237\n",
            "False Positives:  1483\n",
            "True Negatives:  4606\n",
            "False Negatives:  1009\n"
          ],
          "name": "stdout"
        }
      ]
    }
  ]
}
