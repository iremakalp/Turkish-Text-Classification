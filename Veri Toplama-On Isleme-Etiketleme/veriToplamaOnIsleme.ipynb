{
 "cells": [
  {
   "cell_type": "markdown",
   "metadata": {},
   "source": [
    "##  #VERİ TOPLAMA "
   ]
  },
  {
   "cell_type": "code",
   "execution_count": null,
   "metadata": {},
   "outputs": [],
   "source": [
    "import time\n",
    "import re\n",
    "import string\n",
    "import pandas as pd\n",
    "from selenium import webdriver \n",
    "from selenium.webdriver.common.keys import Keys\n",
    "import copy "
   ]
  },
  {
   "cell_type": "code",
   "execution_count": null,
   "metadata": {},
   "outputs": [],
   "source": [
    "driver = webdriver.Chrome(executable_path=r'C:/Users/usersname/Downloads/chromedriver_win32/chromedriver.exe')\n",
    "driver.get(\"https://play.google.com/store/apps/details?id=com.getir&gl=TR&showAllReviews=true\")"
   ]
  },
  {
   "cell_type": "code",
   "execution_count": null,
   "metadata": {},
   "outputs": [],
   "source": [
    "#recursive fonksiyon \"Daha Fazla Goster\" butonunu acabilmek icin\n",
    "def ac():\n",
    "    elem = driver.find_element_by_tag_name(\"body\")\n",
    "    comments = pd.DataFrame(columns = ['comment'])\n",
    "    pagedowns =35\n",
    "    while pagedowns:\n",
    "        elem.send_keys(Keys.PAGE_DOWN)\n",
    "        time.sleep(1)\n",
    "        pagedowns-=1\n",
    "        print(pagedowns)\n",
    "    browser.find_element_by_class_name('CwaK9').click()\n",
    "    element = browser.find_elements_by_class_name(\"UD7Dzf\")\n",
    "    return ac()\n",
    "elem = driver.find_element_by_tag_name(\"body\")\n",
    "comments = pd.DataFrame(columns = ['comment'])\n",
    "pagedowns =35\n",
    "ac()"
   ]
  },
  {
   "cell_type": "code",
   "execution_count": null,
   "metadata": {},
   "outputs": [],
   "source": [
    "for post in element:\n",
    "     comment = post.text\n",
    "     \n",
    "     comments.loc[len(comments)] = [comment]"
   ]
  },
  {
   "cell_type": "code",
   "execution_count": null,
   "metadata": {},
   "outputs": [],
   "source": [
    "comments_copy = copy.deepcopy(comments)\n",
    "def remove_space(s):\n",
    "    return s.replace(\"\\n\",\" \")\n",
    "comments_copy['comments'] = comments_copy['comments'].apply(remove_space)\n",
    "\n",
    "comments_copy.to_csv('dataset.csv',encoding='utf-8-sig',index=False)"
   ]
  },
  {
   "cell_type": "markdown",
   "metadata": {},
   "source": [
    "##  #VERİ ÖN İŞLEME"
   ]
  },
  {
   "cell_type": "code",
   "execution_count": null,
   "metadata": {},
   "outputs": [],
   "source": [
    "data=pd.read_csv('dataset.csv') "
   ]
  },
  {
   "cell_type": "code",
   "execution_count": null,
   "metadata": {},
   "outputs": [],
   "source": [
    "#kücük harf\n",
    "#referans https://www.codegrepper.com/code-examples/python/pandas+convert+all+string+columns+to+lowercase\n",
    "data = data.applymap(lambda s:s.lower() if type(s) == str else s) # tüm dize sütunlarını küçük harfe dönüştürür"
   ]
  },
  {
   "cell_type": "code",
   "execution_count": null,
   "metadata": {},
   "outputs": [],
   "source": [
    "#referans https://stackoverflow.com/questions/39782418/remove-punctuations-in-pandas\n",
    "data[\"Comment\"] = data['Comment'].str.replace('[^\\\\w\\\\s]','')"
   ]
  },
  {
   "cell_type": "code",
   "execution_count": null,
   "metadata": {},
   "outputs": [],
   "source": [
    "#stop_word nltk\n",
    "import nltk\n",
    "from nltk.corpus import stopwords"
   ]
  },
  {
   "cell_type": "code",
   "execution_count": null,
   "metadata": {},
   "outputs": [],
   "source": [
    "comments = pd.DataFrame(columns = ['comments'])\n",
    "nltk.download('stopwords')\n",
    "stopWords = stopwords.words('turkish')\n",
    "for i in range(len(data)):\n",
    "    comment = str(data['Comment'][i]).split()\n",
    "    comment = [word for word in comment if  word not in stopWords]\n",
    "    comment = ' '.join(comment)\n",
    "    comments.loc[len(comments)] = [comment]"
   ]
  },
  {
   "cell_type": "code",
   "execution_count": null,
   "metadata": {},
   "outputs": [],
   "source": [
    "import copy\n",
    "comments_copy = copy.deepcopy(comments)\n",
    "def remove_space(s):\n",
    "    return s.replace(\"\\n\",\" \")\n",
    "comments_copy['comments'] = comments_copy['comments'].apply(remove_space)\n",
    "\n",
    "comments_copy.to_csv('dataset.csv',encoding='utf-8-sig',index=False)"
   ]
  }
 ],
 "metadata": {
  "kernelspec": {
   "display_name": "Python 3",
   "language": "python",
   "name": "python3"
  },
  "language_info": {
   "codemirror_mode": {
    "name": "ipython",
    "version": 3
   },
   "file_extension": ".py",
   "mimetype": "text/x-python",
   "name": "python",
   "nbconvert_exporter": "python",
   "pygments_lexer": "ipython3",
   "version": "3.8.5"
  }
 },
 "nbformat": 4,
 "nbformat_minor": 4
}
